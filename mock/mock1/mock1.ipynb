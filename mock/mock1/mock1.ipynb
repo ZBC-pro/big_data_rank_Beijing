{
 "cells": [
  {
   "cell_type": "markdown",
   "id": "974671d9-aaba-4779-a73e-0819af73dad3",
   "metadata": {},
   "source": [
    "### 141.天气中位数"
   ]
  },
  {
   "cell_type": "code",
   "execution_count": 78,
   "id": "5cac473f-d45e-4641-a863-f627a3879f92",
   "metadata": {},
   "outputs": [],
   "source": [
    "import pandas as pd\n",
    "import numpy as np\n",
    "import datetime as datetime\n",
    "import matplotlib.pyplot as plt"
   ]
  },
  {
   "cell_type": "code",
   "execution_count": 10,
   "id": "d4ca0286-f0f9-4a3f-a4f2-fb7ba9d56ba3",
   "metadata": {},
   "outputs": [
    {
     "data": {
      "text/html": [
       "<div>\n",
       "<style scoped>\n",
       "    .dataframe tbody tr th:only-of-type {\n",
       "        vertical-align: middle;\n",
       "    }\n",
       "\n",
       "    .dataframe tbody tr th {\n",
       "        vertical-align: top;\n",
       "    }\n",
       "\n",
       "    .dataframe thead th {\n",
       "        text-align: right;\n",
       "    }\n",
       "</style>\n",
       "<table border=\"1\" class=\"dataframe\">\n",
       "  <thead>\n",
       "    <tr style=\"text-align: right;\">\n",
       "      <th></th>\n",
       "      <th>日期</th>\n",
       "      <th>白天天气</th>\n",
       "      <th>白天气温</th>\n",
       "      <th>昨天气温</th>\n",
       "      <th>前天气温</th>\n",
       "    </tr>\n",
       "  </thead>\n",
       "  <tbody>\n",
       "    <tr>\n",
       "      <th>0</th>\n",
       "      <td>2022-01-01</td>\n",
       "      <td>晴</td>\n",
       "      <td>-8</td>\n",
       "      <td>-7</td>\n",
       "      <td>-7</td>\n",
       "    </tr>\n",
       "    <tr>\n",
       "      <th>1</th>\n",
       "      <td>2022-01-02</td>\n",
       "      <td>多云</td>\n",
       "      <td>-7</td>\n",
       "      <td>-8</td>\n",
       "      <td>-7</td>\n",
       "    </tr>\n",
       "    <tr>\n",
       "      <th>2</th>\n",
       "      <td>2022-01-03</td>\n",
       "      <td>晴</td>\n",
       "      <td>-7</td>\n",
       "      <td>-7</td>\n",
       "      <td>-8</td>\n",
       "    </tr>\n",
       "    <tr>\n",
       "      <th>3</th>\n",
       "      <td>2022-01-04</td>\n",
       "      <td>晴</td>\n",
       "      <td>-6</td>\n",
       "      <td>-7</td>\n",
       "      <td>-7</td>\n",
       "    </tr>\n",
       "    <tr>\n",
       "      <th>4</th>\n",
       "      <td>2022-01-05</td>\n",
       "      <td>晴</td>\n",
       "      <td>-6</td>\n",
       "      <td>-6</td>\n",
       "      <td>-7</td>\n",
       "    </tr>\n",
       "  </tbody>\n",
       "</table>\n",
       "</div>"
      ],
      "text/plain": [
       "          日期 白天天气  白天气温  昨天气温  前天气温\n",
       "0 2022-01-01    晴    -8    -7    -7\n",
       "1 2022-01-02   多云    -7    -8    -7\n",
       "2 2022-01-03    晴    -7    -7    -8\n",
       "3 2022-01-04    晴    -6    -7    -7\n",
       "4 2022-01-05    晴    -6    -6    -7"
      ]
     },
     "execution_count": 10,
     "metadata": {},
     "output_type": "execute_result"
    }
   ],
   "source": [
    "data = pd.read_excel(\"BJweather_1678065761546.xlsx\")\n",
    "data.head()"
   ]
  },
  {
   "cell_type": "code",
   "execution_count": 12,
   "id": "3b5a3b3a-277d-4527-97ff-f2c6fa891eb0",
   "metadata": {},
   "outputs": [
    {
     "data": {
      "text/plain": [
       "8.2911051212938"
      ]
     },
     "execution_count": 12,
     "metadata": {},
     "output_type": "execute_result"
    }
   ],
   "source": [
    "data[\"前天气温\"].mean()"
   ]
  },
  {
   "cell_type": "code",
   "execution_count": 14,
   "id": "d225669d-a24b-4415-96ca-1f1c89655b7b",
   "metadata": {},
   "outputs": [
    {
     "data": {
      "text/plain": [
       "8.0"
      ]
     },
     "execution_count": 14,
     "metadata": {},
     "output_type": "execute_result"
    }
   ],
   "source": [
    "data[\"前天气温\"].median()"
   ]
  },
  {
   "cell_type": "markdown",
   "id": "bdc9999b-5318-4690-b130-58165efe1348",
   "metadata": {},
   "source": [
    "### 143.异常值位置"
   ]
  },
  {
   "cell_type": "code",
   "execution_count": 34,
   "id": "9f21b2bb-6d5a-472b-b5eb-090963c8baa9",
   "metadata": {},
   "outputs": [
    {
     "data": {
      "text/html": [
       "<div>\n",
       "<style scoped>\n",
       "    .dataframe tbody tr th:only-of-type {\n",
       "        vertical-align: middle;\n",
       "    }\n",
       "\n",
       "    .dataframe tbody tr th {\n",
       "        vertical-align: top;\n",
       "    }\n",
       "\n",
       "    .dataframe thead th {\n",
       "        text-align: right;\n",
       "    }\n",
       "</style>\n",
       "<table border=\"1\" class=\"dataframe\">\n",
       "  <thead>\n",
       "    <tr style=\"text-align: right;\">\n",
       "      <th></th>\n",
       "      <th>日期</th>\n",
       "      <th>白天天气</th>\n",
       "      <th>白天气温</th>\n",
       "      <th>昨天气温</th>\n",
       "      <th>前天气温</th>\n",
       "    </tr>\n",
       "  </thead>\n",
       "  <tbody>\n",
       "    <tr>\n",
       "      <th>355</th>\n",
       "      <td>2022-12-16</td>\n",
       "      <td>多云</td>\n",
       "      <td>-12</td>\n",
       "      <td>-9</td>\n",
       "      <td>-7</td>\n",
       "    </tr>\n",
       "  </tbody>\n",
       "</table>\n",
       "</div>"
      ],
      "text/plain": [
       "            日期 白天天气  白天气温  昨天气温  前天气温\n",
       "355 2022-12-16   多云   -12    -9    -7"
      ]
     },
     "execution_count": 34,
     "metadata": {},
     "output_type": "execute_result"
    }
   ],
   "source": [
    "df_true = data[data[\"白天气温\"] < -11]\n",
    "df_true"
   ]
  },
  {
   "cell_type": "code",
   "execution_count": 48,
   "id": "a2471626-395b-40f3-a90e-fdfde74083d4",
   "metadata": {},
   "outputs": [
    {
     "data": {
      "text/html": [
       "<div>\n",
       "<style scoped>\n",
       "    .dataframe tbody tr th:only-of-type {\n",
       "        vertical-align: middle;\n",
       "    }\n",
       "\n",
       "    .dataframe tbody tr th {\n",
       "        vertical-align: top;\n",
       "    }\n",
       "\n",
       "    .dataframe thead th {\n",
       "        text-align: right;\n",
       "    }\n",
       "</style>\n",
       "<table border=\"1\" class=\"dataframe\">\n",
       "  <thead>\n",
       "    <tr style=\"text-align: right;\">\n",
       "      <th></th>\n",
       "      <th>日期</th>\n",
       "      <th>白天气温</th>\n",
       "      <th>昨天气温</th>\n",
       "      <th>前天气温</th>\n",
       "    </tr>\n",
       "    <tr>\n",
       "      <th>白天天气</th>\n",
       "      <th></th>\n",
       "      <th></th>\n",
       "      <th></th>\n",
       "      <th></th>\n",
       "    </tr>\n",
       "  </thead>\n",
       "  <tbody>\n",
       "    <tr>\n",
       "      <th>中雨</th>\n",
       "      <td>4</td>\n",
       "      <td>4</td>\n",
       "      <td>4</td>\n",
       "      <td>4</td>\n",
       "    </tr>\n",
       "    <tr>\n",
       "      <th>中雪</th>\n",
       "      <td>2</td>\n",
       "      <td>2</td>\n",
       "      <td>2</td>\n",
       "      <td>2</td>\n",
       "    </tr>\n",
       "    <tr>\n",
       "      <th>多云</th>\n",
       "      <td>112</td>\n",
       "      <td>112</td>\n",
       "      <td>112</td>\n",
       "      <td>112</td>\n",
       "    </tr>\n",
       "    <tr>\n",
       "      <th>小雨</th>\n",
       "      <td>43</td>\n",
       "      <td>43</td>\n",
       "      <td>43</td>\n",
       "      <td>43</td>\n",
       "    </tr>\n",
       "    <tr>\n",
       "      <th>小雪</th>\n",
       "      <td>2</td>\n",
       "      <td>2</td>\n",
       "      <td>2</td>\n",
       "      <td>2</td>\n",
       "    </tr>\n",
       "    <tr>\n",
       "      <th>扬沙</th>\n",
       "      <td>3</td>\n",
       "      <td>3</td>\n",
       "      <td>3</td>\n",
       "      <td>3</td>\n",
       "    </tr>\n",
       "    <tr>\n",
       "      <th>晴</th>\n",
       "      <td>178</td>\n",
       "      <td>178</td>\n",
       "      <td>178</td>\n",
       "      <td>178</td>\n",
       "    </tr>\n",
       "    <tr>\n",
       "      <th>阴</th>\n",
       "      <td>20</td>\n",
       "      <td>20</td>\n",
       "      <td>20</td>\n",
       "      <td>20</td>\n",
       "    </tr>\n",
       "    <tr>\n",
       "      <th>阵雨</th>\n",
       "      <td>1</td>\n",
       "      <td>1</td>\n",
       "      <td>1</td>\n",
       "      <td>1</td>\n",
       "    </tr>\n",
       "    <tr>\n",
       "      <th>雨夹雪</th>\n",
       "      <td>1</td>\n",
       "      <td>1</td>\n",
       "      <td>1</td>\n",
       "      <td>1</td>\n",
       "    </tr>\n",
       "    <tr>\n",
       "      <th>雷阵雨</th>\n",
       "      <td>4</td>\n",
       "      <td>4</td>\n",
       "      <td>4</td>\n",
       "      <td>4</td>\n",
       "    </tr>\n",
       "    <tr>\n",
       "      <th>雾</th>\n",
       "      <td>1</td>\n",
       "      <td>1</td>\n",
       "      <td>1</td>\n",
       "      <td>1</td>\n",
       "    </tr>\n",
       "  </tbody>\n",
       "</table>\n",
       "</div>"
      ],
      "text/plain": [
       "       日期  白天气温  昨天气温  前天气温\n",
       "白天天气                       \n",
       "中雨      4     4     4     4\n",
       "中雪      2     2     2     2\n",
       "多云    112   112   112   112\n",
       "小雨     43    43    43    43\n",
       "小雪      2     2     2     2\n",
       "扬沙      3     3     3     3\n",
       "晴     178   178   178   178\n",
       "阴      20    20    20    20\n",
       "阵雨      1     1     1     1\n",
       "雨夹雪     1     1     1     1\n",
       "雷阵雨     4     4     4     4\n",
       "雾       1     1     1     1"
      ]
     },
     "execution_count": 48,
     "metadata": {},
     "output_type": "execute_result"
    }
   ],
   "source": [
    "pd = data.groupby(\"白天天气\")\n",
    "pd.count()"
   ]
  },
  {
   "cell_type": "code",
   "execution_count": 52,
   "id": "547a2cf7-f418-4d6f-bcc0-04b58704619a",
   "metadata": {},
   "outputs": [
    {
     "data": {
      "text/html": [
       "<div>\n",
       "<style scoped>\n",
       "    .dataframe tbody tr th:only-of-type {\n",
       "        vertical-align: middle;\n",
       "    }\n",
       "\n",
       "    .dataframe tbody tr th {\n",
       "        vertical-align: top;\n",
       "    }\n",
       "\n",
       "    .dataframe thead th {\n",
       "        text-align: right;\n",
       "    }\n",
       "</style>\n",
       "<table border=\"1\" class=\"dataframe\">\n",
       "  <thead>\n",
       "    <tr style=\"text-align: right;\">\n",
       "      <th></th>\n",
       "      <th>日期</th>\n",
       "      <th>白天天气</th>\n",
       "      <th>白天气温</th>\n",
       "      <th>昨天气温</th>\n",
       "      <th>前天气温</th>\n",
       "    </tr>\n",
       "  </thead>\n",
       "  <tbody>\n",
       "    <tr>\n",
       "      <th>0</th>\n",
       "      <td>2022-01-01</td>\n",
       "      <td>晴</td>\n",
       "      <td>-8</td>\n",
       "      <td>-7</td>\n",
       "      <td>-7</td>\n",
       "    </tr>\n",
       "    <tr>\n",
       "      <th>1</th>\n",
       "      <td>2022-01-02</td>\n",
       "      <td>多云</td>\n",
       "      <td>-7</td>\n",
       "      <td>-8</td>\n",
       "      <td>-7</td>\n",
       "    </tr>\n",
       "    <tr>\n",
       "      <th>2</th>\n",
       "      <td>2022-01-03</td>\n",
       "      <td>晴</td>\n",
       "      <td>-7</td>\n",
       "      <td>-7</td>\n",
       "      <td>-8</td>\n",
       "    </tr>\n",
       "    <tr>\n",
       "      <th>3</th>\n",
       "      <td>2022-01-04</td>\n",
       "      <td>晴</td>\n",
       "      <td>-6</td>\n",
       "      <td>-7</td>\n",
       "      <td>-7</td>\n",
       "    </tr>\n",
       "    <tr>\n",
       "      <th>4</th>\n",
       "      <td>2022-01-05</td>\n",
       "      <td>晴</td>\n",
       "      <td>-6</td>\n",
       "      <td>-6</td>\n",
       "      <td>-7</td>\n",
       "    </tr>\n",
       "    <tr>\n",
       "      <th>...</th>\n",
       "      <td>...</td>\n",
       "      <td>...</td>\n",
       "      <td>...</td>\n",
       "      <td>...</td>\n",
       "      <td>...</td>\n",
       "    </tr>\n",
       "    <tr>\n",
       "      <th>366</th>\n",
       "      <td>2022-12-27</td>\n",
       "      <td>晴</td>\n",
       "      <td>-8</td>\n",
       "      <td>-7</td>\n",
       "      <td>-7</td>\n",
       "    </tr>\n",
       "    <tr>\n",
       "      <th>367</th>\n",
       "      <td>2022-12-28</td>\n",
       "      <td>晴</td>\n",
       "      <td>-8</td>\n",
       "      <td>-8</td>\n",
       "      <td>-7</td>\n",
       "    </tr>\n",
       "    <tr>\n",
       "      <th>368</th>\n",
       "      <td>2022-12-29</td>\n",
       "      <td>晴</td>\n",
       "      <td>-9</td>\n",
       "      <td>-8</td>\n",
       "      <td>-8</td>\n",
       "    </tr>\n",
       "    <tr>\n",
       "      <th>369</th>\n",
       "      <td>2022-12-30</td>\n",
       "      <td>晴</td>\n",
       "      <td>-8</td>\n",
       "      <td>-9</td>\n",
       "      <td>-8</td>\n",
       "    </tr>\n",
       "    <tr>\n",
       "      <th>370</th>\n",
       "      <td>2022-12-31</td>\n",
       "      <td>晴</td>\n",
       "      <td>-7</td>\n",
       "      <td>-8</td>\n",
       "      <td>-9</td>\n",
       "    </tr>\n",
       "  </tbody>\n",
       "</table>\n",
       "<p>371 rows × 5 columns</p>\n",
       "</div>"
      ],
      "text/plain": [
       "            日期 白天天气  白天气温  昨天气温  前天气温\n",
       "0   2022-01-01    晴    -8    -7    -7\n",
       "1   2022-01-02   多云    -7    -8    -7\n",
       "2   2022-01-03    晴    -7    -7    -8\n",
       "3   2022-01-04    晴    -6    -7    -7\n",
       "4   2022-01-05    晴    -6    -6    -7\n",
       "..         ...  ...   ...   ...   ...\n",
       "366 2022-12-27    晴    -8    -7    -7\n",
       "367 2022-12-28    晴    -8    -8    -7\n",
       "368 2022-12-29    晴    -9    -8    -8\n",
       "369 2022-12-30    晴    -8    -9    -8\n",
       "370 2022-12-31    晴    -7    -8    -9\n",
       "\n",
       "[371 rows x 5 columns]"
      ]
     },
     "execution_count": 52,
     "metadata": {},
     "output_type": "execute_result"
    }
   ],
   "source": [
    "data['日期'] = pd.to_datetime(data['日期'], format='%Y-%m-%d %H-%M-%S')\n",
    "data"
   ]
  },
  {
   "cell_type": "code",
   "execution_count": 68,
   "id": "d2b3c116-1610-41a8-82da-f63a11b541dc",
   "metadata": {},
   "outputs": [
    {
     "data": {
      "text/plain": [
       "Timedelta('364 days 00:00:00')"
      ]
     },
     "execution_count": 68,
     "metadata": {},
     "output_type": "execute_result"
    }
   ],
   "source": [
    "data['日期'][370] - data['日期'][0]"
   ]
  },
  {
   "cell_type": "code",
   "execution_count": 76,
   "id": "e92500a8-86f0-42c6-86d8-d986f4d6cb51",
   "metadata": {},
   "outputs": [
    {
     "data": {
      "text/plain": [
       "0   -8\n",
       "1   -7\n",
       "2   -7\n",
       "3   -6\n",
       "4   -6\n",
       "5   -7\n",
       "6   -6\n",
       "7   -5\n",
       "8   -5\n",
       "9   -8\n",
       "Name: 白天气温, dtype: int64"
      ]
     },
     "execution_count": 76,
     "metadata": {},
     "output_type": "execute_result"
    }
   ],
   "source": [
    "data_top_10 = data[:10]['白天气温']\n",
    "data_top_10"
   ]
  },
  {
   "cell_type": "code",
   "execution_count": 80,
   "id": "f942d45f-f6ea-4883-9693-5bb400d03147",
   "metadata": {},
   "outputs": [
    {
     "data": {
      "text/plain": [
       "<Axes: >"
      ]
     },
     "execution_count": 80,
     "metadata": {},
     "output_type": "execute_result"
    },
    {
     "data": {
      "image/png": "[encoded data removed]",
      "text/plain": [
       "<Figure size 640x480 with 1 Axes>"
      ]
     },
     "metadata": {},
     "output_type": "display_data"
    }
   ],
   "source": [
    "data_top_10.plot()"
   ]
  },
  {
   "cell_type": "markdown",
   "id": "6a46a8ff-a3fb-4fde-a3ec-215c20fd9649",
   "metadata": {},
   "source": [
    "### 148.KMeans聚类，聚为6类时模型Calinski-Harabaz指数为："
   ]
  },
  {
   "cell_type": "code",
   "execution_count": null,
   "id": "86dd6e14-48e7-4a35-91b3-a41d92e2b8a0",
   "metadata": {},
   "outputs": [],
   "source": []
  }
 ],
 "metadata": {
  "kernelspec": {
   "display_name": "Python 3 (ipykernel)",
   "language": "python",
   "name": "python3"
  },
  "language_info": {
   "codemirror_mode": {
    "name": "ipython",
    "version": 3
   },
   "file_extension": ".py",
   "mimetype": "text/x-python",
   "name": "python",
   "nbconvert_exporter": "python",
   "pygments_lexer": "ipython3",
   "version": "3.12.3"
  }
 },
 "nbformat": 4,
 "nbformat_minor": 5
}
