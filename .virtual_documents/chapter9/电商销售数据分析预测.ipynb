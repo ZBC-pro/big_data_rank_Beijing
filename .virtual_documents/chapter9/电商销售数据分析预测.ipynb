





import os
import numpy as np
import pandas as pd
import matplotlib.pyplot as plt

# 设置字体为黑体大小为11
plt.rc('font', family='SimHei', size=11)


df1 = pd.read_excel('广告费.xlsx')
df2 = pd.read_excel('销售表.xlsx')

df1['投放日期'] = pd.to_datetime(df1['投放日期'])
df1 = df1.set_index('投放日期', drop=True)

df2['日期'] = pd.to_datetime(df2['日期'])
df2 = df2[['日期', '销售码洋']]
df2 = df2.set_index('日期', drop=True)

# 按月求销售额
df_x = df1.resample('ME').sum().to_period('M')  # 月末，将采样后的时间索引从时间戳（如 2024-09-30）转换为月份期间对象（如 2024-09）。
df_y = df2.resample('ME').sum().to_period('M')  # 这表示 整个9月的数据，而不是某个具体的日期。

# y1 广告费, y2销售额
y1 = pd.DataFrame(df_x['支出'])
y2 = pd.DataFrame(df_y['销售码洋'])

# 天和月导出为excle
df_d = df2.resample('D').sum().to_period('D')
df_m = df2.resample('ME').sum().to_period('M')

df_d.to_excel('df按天销售额.xlsx', engine='openpyxl')
df_m.to_excel('df按月销售额.xlsx', engine='openpyxl')

if os.path.exists('df按天销售额.xlsx'):
    print('表 "df按天销售额.xlsx" 创建成功')
else:
    print('表 "df按天销售额.xlsx" 创建失败')

if os.path.exists('df按月销售额.xlsx'):
    print('表 "df按月销售额.xlsx" 创建成功')
else:
    print('表 "df按月销售额.xlsx" 创建失败')










df_m = pd.read_excel('df按月销售额.xlsx')
df_m



import matplotlib.pyplot as plt
plt.plot([1, 2, 3, 4], [10, 20, 25, 30], 'r')
plt.show()




